{
 "cells": [
  {
   "cell_type": "code",
   "execution_count": 1,
   "metadata": {},
   "outputs": [],
   "source": [
    "import flickrapi\n",
    "from flickrapi import FlickrAPI\n",
    "from bs4 import BeautifulSoup\n",
    "import xml\n",
    "from urllib.request import urlopen\n",
    "from urllib.request import urlretrieve\n",
    "import csv\n",
    "import pandas as pd\n",
    "import numpy as np\n",
    "import time\n",
    "import os\n",
    "import logging\n",
    "import re\n",
    "from tqdm import tqdm\n",
    "\n",
    "\n",
    "logger = logging.getLogger(__name__)\n",
    "logger.setLevel(logging.INFO)\n",
    "\n",
    "# create a file handler\n",
    "handler = logging.FileHandler('hello.log')\n",
    "handler.setLevel(logging.INFO)\n",
    "logger.addHandler(handler)\n",
    "\n",
    "\n",
    "FLICKR_PUBLIC = '90cb7b5c1ea80af5263116dd84219cbc'\n",
    "FLICKR_SECRET = '55321131ef96714b'\n",
    "flickr = FlickrAPI(FLICKR_PUBLIC, FLICKR_SECRET, format='parsed-json')\n",
    "\n",
    "df = pd.read_csv('/mnt/metadata.csv')"
   ]
  },
  {
   "cell_type": "code",
   "execution_count": 2,
   "metadata": {
    "collapsed": true
   },
   "outputs": [],
   "source": [
    "df['image_id'] = df['image_id'].astype(str)"
   ]
  },
  {
   "cell_type": "code",
   "execution_count": 3,
   "metadata": {},
   "outputs": [],
   "source": [
    "done_lines = os.listdir('/mnt/images/')\n",
    "done_lines = [re.sub('.jpg', '', x) for x in done_lines]\n",
    "pending_lines = list(set(df['image_id'].tolist()) - set(done_lines))"
   ]
  },
  {
   "cell_type": "code",
   "execution_count": 5,
   "metadata": {},
   "outputs": [
    {
     "data": {
      "text/plain": [
       "15112"
      ]
     },
     "execution_count": 5,
     "metadata": {},
     "output_type": "execute_result"
    }
   ],
   "source": [
    "len(pending_lines)"
   ]
  },
  {
   "cell_type": "code",
   "execution_count": null,
   "metadata": {},
   "outputs": [
    {
     "name": "stderr",
     "output_type": "stream",
     "text": [
      "  1%|          | 130/15112 [01:39<3:11:58,  1.30it/s]"
     ]
    }
   ],
   "source": [
    "for row in tqdm(pending_lines):\n",
    "    try:\n",
    "        image_id = row.strip()\n",
    "        file_location = '/mnt/images/%s.jpg'%(image_id)\n",
    "        image = flickr.photos.getinfo(photo_id = image_id)\n",
    "        secret = image['photo']['secret']\n",
    "        server = image['photo']['server']\n",
    "        farm_id = image['photo']['farm']\n",
    "        urlretrieve('https://farm%s.staticflickr.com/%s/%s_%s.jpg'%(farm_id, server, image_id, secret), file_location)\n",
    "        time.sleep(0.2)\n",
    "    except:\n",
    "        logging.error('error while processing %s'%(image_id))"
   ]
  },
  {
   "cell_type": "code",
   "execution_count": null,
   "metadata": {
    "collapsed": true
   },
   "outputs": [],
   "source": []
  },
  {
   "cell_type": "code",
   "execution_count": null,
   "metadata": {
    "collapsed": true
   },
   "outputs": [],
   "source": []
  }
 ],
 "metadata": {
  "kernelspec": {
   "display_name": "Python 3",
   "language": "python",
   "name": "python3"
  },
  "language_info": {
   "codemirror_mode": {
    "name": "ipython",
    "version": 3
   },
   "file_extension": ".py",
   "mimetype": "text/x-python",
   "name": "python",
   "nbconvert_exporter": "python",
   "pygments_lexer": "ipython3",
   "version": "3.6.3"
  }
 },
 "nbformat": 4,
 "nbformat_minor": 2
}
